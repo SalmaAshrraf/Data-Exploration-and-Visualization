{
  "nbformat": 4,
  "nbformat_minor": 0,
  "metadata": {
    "colab": {
      "name": "911.ipynb",
      "provenance": []
    },
    "kernelspec": {
      "name": "python3",
      "display_name": "Python 3"
    },
    "language_info": {
      "name": "python"
    }
  },
  "cells": [
    {
      "cell_type": "code",
      "metadata": {
        "id": "Gxa_SEmZ5Isu"
      },
      "source": [
        "import pandas as pd\n",
        "import numpy as np\n",
        "import seaborn as sns\n",
        "import matplotlib.pylab as plt"
      ],
      "execution_count": 1,
      "outputs": []
    },
    {
      "cell_type": "code",
      "metadata": {
        "colab": {
          "base_uri": "https://localhost:8080/",
          "height": 506
        },
        "id": "8RuXb3RJ5MDp",
        "outputId": "2c66d552-b116-4ab6-d483-563986f96856"
      },
      "source": [
        "nine = pd.read_csv('/content/911.csv')\n",
        "nine.head()\n"
      ],
      "execution_count": 2,
      "outputs": [
        {
          "output_type": "execute_result",
          "data": {
            "text/html": [
              "<div>\n",
              "<style scoped>\n",
              "    .dataframe tbody tr th:only-of-type {\n",
              "        vertical-align: middle;\n",
              "    }\n",
              "\n",
              "    .dataframe tbody tr th {\n",
              "        vertical-align: top;\n",
              "    }\n",
              "\n",
              "    .dataframe thead th {\n",
              "        text-align: right;\n",
              "    }\n",
              "</style>\n",
              "<table border=\"1\" class=\"dataframe\">\n",
              "  <thead>\n",
              "    <tr style=\"text-align: right;\">\n",
              "      <th></th>\n",
              "      <th>lat</th>\n",
              "      <th>lng</th>\n",
              "      <th>desc</th>\n",
              "      <th>zip</th>\n",
              "      <th>title</th>\n",
              "      <th>timeStamp</th>\n",
              "      <th>twp</th>\n",
              "      <th>addr</th>\n",
              "      <th>e</th>\n",
              "      <th>Reason</th>\n",
              "      <th>hour</th>\n",
              "      <th>month</th>\n",
              "      <th>day of week</th>\n",
              "      <th>Year</th>\n",
              "    </tr>\n",
              "  </thead>\n",
              "  <tbody>\n",
              "    <tr>\n",
              "      <th>0</th>\n",
              "      <td>40.297876</td>\n",
              "      <td>-75.581294</td>\n",
              "      <td>REINDEER CT &amp; DEAD END;  NEW HANOVER; Station ...</td>\n",
              "      <td>19525.0</td>\n",
              "      <td>EMS: BACK PAINS/INJURY</td>\n",
              "      <td>2015-12-10 17:10:52</td>\n",
              "      <td>NEW HANOVER</td>\n",
              "      <td>REINDEER CT &amp; DEAD END</td>\n",
              "      <td>1.0</td>\n",
              "      <td>EMS</td>\n",
              "      <td>17.0</td>\n",
              "      <td>12.0</td>\n",
              "      <td>Thu</td>\n",
              "      <td>2015.0</td>\n",
              "    </tr>\n",
              "    <tr>\n",
              "      <th>1</th>\n",
              "      <td>40.258061</td>\n",
              "      <td>-75.264680</td>\n",
              "      <td>BRIAR PATH &amp; WHITEMARSH LN;  HATFIELD TOWNSHIP...</td>\n",
              "      <td>19446.0</td>\n",
              "      <td>EMS: DIABETIC EMERGENCY</td>\n",
              "      <td>2015-12-10 17:29:21</td>\n",
              "      <td>HATFIELD TOWNSHIP</td>\n",
              "      <td>BRIAR PATH &amp; WHITEMARSH LN</td>\n",
              "      <td>1.0</td>\n",
              "      <td>EMS</td>\n",
              "      <td>17.0</td>\n",
              "      <td>12.0</td>\n",
              "      <td>Thu</td>\n",
              "      <td>2015.0</td>\n",
              "    </tr>\n",
              "    <tr>\n",
              "      <th>2</th>\n",
              "      <td>40.121182</td>\n",
              "      <td>-75.351975</td>\n",
              "      <td>HAWS AVE; NORRISTOWN; 2015-12-10 @ 14:39:21-St...</td>\n",
              "      <td>19401.0</td>\n",
              "      <td>Fire: GAS-ODOR/LEAK</td>\n",
              "      <td>2015-12-10 14:39:21</td>\n",
              "      <td>NORRISTOWN</td>\n",
              "      <td>HAWS AVE</td>\n",
              "      <td>1.0</td>\n",
              "      <td>Fire</td>\n",
              "      <td>14.0</td>\n",
              "      <td>12.0</td>\n",
              "      <td>Thu</td>\n",
              "      <td>2015.0</td>\n",
              "    </tr>\n",
              "    <tr>\n",
              "      <th>3</th>\n",
              "      <td>40.116153</td>\n",
              "      <td>-75.343513</td>\n",
              "      <td>AIRY ST &amp; SWEDE ST;  NORRISTOWN; Station 308A;...</td>\n",
              "      <td>19401.0</td>\n",
              "      <td>EMS: CARDIAC EMERGENCY</td>\n",
              "      <td>2015-12-10 16:47:36</td>\n",
              "      <td>NORRISTOWN</td>\n",
              "      <td>AIRY ST &amp; SWEDE ST</td>\n",
              "      <td>1.0</td>\n",
              "      <td>EMS</td>\n",
              "      <td>16.0</td>\n",
              "      <td>12.0</td>\n",
              "      <td>Thu</td>\n",
              "      <td>2015.0</td>\n",
              "    </tr>\n",
              "    <tr>\n",
              "      <th>4</th>\n",
              "      <td>40.251492</td>\n",
              "      <td>-75.603350</td>\n",
              "      <td>CHERRYWOOD CT &amp; DEAD END;  LOWER POTTSGROVE; S...</td>\n",
              "      <td>NaN</td>\n",
              "      <td>EMS: DIZZINESS</td>\n",
              "      <td>2015-12-10 16:56:52</td>\n",
              "      <td>LOWER POTTSGROVE</td>\n",
              "      <td>CHERRYWOOD CT &amp; DEAD END</td>\n",
              "      <td>1.0</td>\n",
              "      <td>EMS</td>\n",
              "      <td>16.0</td>\n",
              "      <td>12.0</td>\n",
              "      <td>Thu</td>\n",
              "      <td>2015.0</td>\n",
              "    </tr>\n",
              "  </tbody>\n",
              "</table>\n",
              "</div>"
            ],
            "text/plain": [
              "         lat        lng  ... day of week    Year\n",
              "0  40.297876 -75.581294  ...         Thu  2015.0\n",
              "1  40.258061 -75.264680  ...         Thu  2015.0\n",
              "2  40.121182 -75.351975  ...         Thu  2015.0\n",
              "3  40.116153 -75.343513  ...         Thu  2015.0\n",
              "4  40.251492 -75.603350  ...         Thu  2015.0\n",
              "\n",
              "[5 rows x 14 columns]"
            ]
          },
          "metadata": {},
          "execution_count": 2
        }
      ]
    },
    {
      "cell_type": "code",
      "metadata": {
        "colab": {
          "base_uri": "https://localhost:8080/"
        },
        "id": "oF_APDok6bfb",
        "outputId": "e3d72814-3de1-401b-cf39-f638eb06da12"
      },
      "source": [
        "nine.info()\n"
      ],
      "execution_count": 3,
      "outputs": [
        {
          "output_type": "stream",
          "name": "stdout",
          "text": [
            "<class 'pandas.core.frame.DataFrame'>\n",
            "RangeIndex: 19878 entries, 0 to 19877\n",
            "Data columns (total 14 columns):\n",
            " #   Column       Non-Null Count  Dtype  \n",
            "---  ------       --------------  -----  \n",
            " 0   lat          19878 non-null  float64\n",
            " 1   lng          19878 non-null  float64\n",
            " 2   desc         19878 non-null  object \n",
            " 3   zip          17433 non-null  float64\n",
            " 4   title        19878 non-null  object \n",
            " 5   timeStamp    19877 non-null  object \n",
            " 6   twp          19870 non-null  object \n",
            " 7   addr         19877 non-null  object \n",
            " 8   e            19877 non-null  float64\n",
            " 9   Reason       19877 non-null  object \n",
            " 10  hour         19877 non-null  float64\n",
            " 11  month        19877 non-null  float64\n",
            " 12  day of week  19877 non-null  object \n",
            " 13  Year         19877 non-null  float64\n",
            "dtypes: float64(7), object(7)\n",
            "memory usage: 2.1+ MB\n"
          ]
        }
      ]
    },
    {
      "cell_type": "code",
      "metadata": {
        "colab": {
          "base_uri": "https://localhost:8080/",
          "height": 295
        },
        "id": "ZpLlD-ZG6gcx",
        "outputId": "bcb1b84b-4f49-488c-af65-f9ad79f5d977"
      },
      "source": [
        "nine.describe()\n"
      ],
      "execution_count": 4,
      "outputs": [
        {
          "output_type": "execute_result",
          "data": {
            "text/html": [
              "<div>\n",
              "<style scoped>\n",
              "    .dataframe tbody tr th:only-of-type {\n",
              "        vertical-align: middle;\n",
              "    }\n",
              "\n",
              "    .dataframe tbody tr th {\n",
              "        vertical-align: top;\n",
              "    }\n",
              "\n",
              "    .dataframe thead th {\n",
              "        text-align: right;\n",
              "    }\n",
              "</style>\n",
              "<table border=\"1\" class=\"dataframe\">\n",
              "  <thead>\n",
              "    <tr style=\"text-align: right;\">\n",
              "      <th></th>\n",
              "      <th>lat</th>\n",
              "      <th>lng</th>\n",
              "      <th>zip</th>\n",
              "      <th>e</th>\n",
              "      <th>hour</th>\n",
              "      <th>month</th>\n",
              "      <th>Year</th>\n",
              "    </tr>\n",
              "  </thead>\n",
              "  <tbody>\n",
              "    <tr>\n",
              "      <th>count</th>\n",
              "      <td>19878.000000</td>\n",
              "      <td>19878.000000</td>\n",
              "      <td>17433.000000</td>\n",
              "      <td>19877.0</td>\n",
              "      <td>19877.000000</td>\n",
              "      <td>19877.000000</td>\n",
              "      <td>19877.000000</td>\n",
              "    </tr>\n",
              "    <tr>\n",
              "      <th>mean</th>\n",
              "      <td>40.162439</td>\n",
              "      <td>-75.318570</td>\n",
              "      <td>19241.474904</td>\n",
              "      <td>1.0</td>\n",
              "      <td>13.089098</td>\n",
              "      <td>5.380742</td>\n",
              "      <td>2015.601751</td>\n",
              "    </tr>\n",
              "    <tr>\n",
              "      <th>std</th>\n",
              "      <td>0.084749</td>\n",
              "      <td>0.154942</td>\n",
              "      <td>276.078322</td>\n",
              "      <td>0.0</td>\n",
              "      <td>5.693712</td>\n",
              "      <td>5.385046</td>\n",
              "      <td>0.489550</td>\n",
              "    </tr>\n",
              "    <tr>\n",
              "      <th>min</th>\n",
              "      <td>39.974951</td>\n",
              "      <td>-77.686813</td>\n",
              "      <td>17752.000000</td>\n",
              "      <td>1.0</td>\n",
              "      <td>0.000000</td>\n",
              "      <td>1.000000</td>\n",
              "      <td>2015.000000</td>\n",
              "    </tr>\n",
              "    <tr>\n",
              "      <th>25%</th>\n",
              "      <td>40.103377</td>\n",
              "      <td>-75.396135</td>\n",
              "      <td>19038.000000</td>\n",
              "      <td>1.0</td>\n",
              "      <td>9.000000</td>\n",
              "      <td>1.000000</td>\n",
              "      <td>2015.000000</td>\n",
              "    </tr>\n",
              "    <tr>\n",
              "      <th>50%</th>\n",
              "      <td>40.149665</td>\n",
              "      <td>-75.306233</td>\n",
              "      <td>19401.000000</td>\n",
              "      <td>1.0</td>\n",
              "      <td>13.000000</td>\n",
              "      <td>1.000000</td>\n",
              "      <td>2016.000000</td>\n",
              "    </tr>\n",
              "    <tr>\n",
              "      <th>75%</th>\n",
              "      <td>40.230934</td>\n",
              "      <td>-75.212916</td>\n",
              "      <td>19446.000000</td>\n",
              "      <td>1.0</td>\n",
              "      <td>18.000000</td>\n",
              "      <td>12.000000</td>\n",
              "      <td>2016.000000</td>\n",
              "    </tr>\n",
              "    <tr>\n",
              "      <th>max</th>\n",
              "      <td>41.167156</td>\n",
              "      <td>-75.000755</td>\n",
              "      <td>19525.000000</td>\n",
              "      <td>1.0</td>\n",
              "      <td>23.000000</td>\n",
              "      <td>12.000000</td>\n",
              "      <td>2016.000000</td>\n",
              "    </tr>\n",
              "  </tbody>\n",
              "</table>\n",
              "</div>"
            ],
            "text/plain": [
              "                lat           lng  ...         month          Year\n",
              "count  19878.000000  19878.000000  ...  19877.000000  19877.000000\n",
              "mean      40.162439    -75.318570  ...      5.380742   2015.601751\n",
              "std        0.084749      0.154942  ...      5.385046      0.489550\n",
              "min       39.974951    -77.686813  ...      1.000000   2015.000000\n",
              "25%       40.103377    -75.396135  ...      1.000000   2015.000000\n",
              "50%       40.149665    -75.306233  ...      1.000000   2016.000000\n",
              "75%       40.230934    -75.212916  ...     12.000000   2016.000000\n",
              "max       41.167156    -75.000755  ...     12.000000   2016.000000\n",
              "\n",
              "[8 rows x 7 columns]"
            ]
          },
          "metadata": {},
          "execution_count": 4
        }
      ]
    },
    {
      "cell_type": "code",
      "metadata": {
        "colab": {
          "base_uri": "https://localhost:8080/"
        },
        "id": "EVRSvzPh6jgS",
        "outputId": "64ed6887-938f-4844-96c6-f627b875bfa7"
      },
      "source": [
        "nine.nunique()\n"
      ],
      "execution_count": 5,
      "outputs": [
        {
          "output_type": "execute_result",
          "data": {
            "text/plain": [
              "lat             6879\n",
              "lng             6877\n",
              "desc           19867\n",
              "zip               90\n",
              "title             87\n",
              "timeStamp      19185\n",
              "twp               68\n",
              "addr            8864\n",
              "e                  1\n",
              "Reason             3\n",
              "hour              24\n",
              "month              2\n",
              "day of week        7\n",
              "Year               2\n",
              "dtype: int64"
            ]
          },
          "metadata": {},
          "execution_count": 5
        }
      ]
    },
    {
      "cell_type": "code",
      "metadata": {
        "colab": {
          "base_uri": "https://localhost:8080/",
          "height": 405
        },
        "id": "AlhGygYs6mB9",
        "outputId": "ed57fdaf-08e5-4437-bc25-362ca03779aa"
      },
      "source": [
        "plt.figure(figsize=(12,6))\n",
        "sns.countplot(data=nine , x='Reason' , hue='day of week')\n"
      ],
      "execution_count": 6,
      "outputs": [
        {
          "output_type": "execute_result",
          "data": {
            "text/plain": [
              "<matplotlib.axes._subplots.AxesSubplot at 0x7fc95c336c90>"
            ]
          },
          "metadata": {},
          "execution_count": 6
        },
        {
          "output_type": "display_data",
          "data": {
            "image/png": "[encoded data removed]",
            "text/plain": [
              "<Figure size 864x432 with 1 Axes>"
            ]
          },
          "metadata": {
            "needs_background": "light"
          }
        }
      ]
    },
    {
      "cell_type": "code",
      "metadata": {
        "colab": {
          "base_uri": "https://localhost:8080/",
          "height": 391
        },
        "id": "bsddxOGN6zRa",
        "outputId": "8d2b2a11-ad07-497e-fe13-56d1275e594b"
      },
      "source": [
        "plt.figure(figsize=(12,6))\n",
        "plt.hist(nine[nine['Reason'] == 'EMS']['month'] , bins= 24 , label = \"1\")\n",
        "plt.hist(nine[nine['Reason'] == 'Traffic']['month'] , bins= 24 , label = \"2\")\n",
        "plt.hist(nine[nine['Reason'] == 'Fire']['month'] , bins= 24 , label = \"3\" )\n",
        "plt.legend(['EMS' , 'Traffic' ,' Fire' ])"
      ],
      "execution_count": 7,
      "outputs": [
        {
          "output_type": "execute_result",
          "data": {
            "text/plain": [
              "<matplotlib.legend.Legend at 0x7fc95c336750>"
            ]
          },
          "metadata": {},
          "execution_count": 7
        },
        {
          "output_type": "display_data",
          "data": {
            "image/png": "[encoded data removed]",
            "text/plain": [
              "<Figure size 864x432 with 1 Axes>"
            ]
          },
          "metadata": {
            "needs_background": "light"
          }
        }
      ]
    },
    {
      "cell_type": "code",
      "metadata": {
        "colab": {
          "base_uri": "https://localhost:8080/",
          "height": 282
        },
        "id": "qq08SC2v6zy_",
        "outputId": "0316a2a9-8363-4730-aaf7-b75a72d29bd0"
      },
      "source": [
        "nine['Reason'].hist(bins = 10)"
      ],
      "execution_count": 8,
      "outputs": [
        {
          "output_type": "execute_result",
          "data": {
            "text/plain": [
              "<matplotlib.axes._subplots.AxesSubplot at 0x7fc95d0317d0>"
            ]
          },
          "metadata": {},
          "execution_count": 8
        },
        {
          "output_type": "display_data",
          "data": {
            "image/png": "[encoded data removed]",
            "text/plain": [
              "<Figure size 432x288 with 1 Axes>"
            ]
          },
          "metadata": {
            "needs_background": "light"
          }
        }
      ]
    },
    {
      "cell_type": "code",
      "metadata": {
        "colab": {
          "base_uri": "https://localhost:8080/",
          "height": 277
        },
        "id": "wzBUu73y62W5",
        "outputId": "82a753ff-e28a-4f11-a8c6-a4cbdd06d1c7"
      },
      "source": [
        "x = nine['day of week'].value_counts().plot(kind = 'bar')"
      ],
      "execution_count": 9,
      "outputs": [
        {
          "output_type": "display_data",
          "data": {
            "image/png": "[encoded data removed]",
            "text/plain": [
              "<Figure size 432x288 with 1 Axes>"
            ]
          },
          "metadata": {
            "needs_background": "light"
          }
        }
      ]
    },
    {
      "cell_type": "code",
      "metadata": {
        "colab": {
          "base_uri": "https://localhost:8080/",
          "height": 295
        },
        "id": "QBifninX65GQ",
        "outputId": "beee8ad8-8cb8-46a4-8c09-3561b9d9c4c0"
      },
      "source": [
        "nine['hour'].value_counts().plot(kind = 'bar')"
      ],
      "execution_count": 10,
      "outputs": [
        {
          "output_type": "execute_result",
          "data": {
            "text/plain": [
              "<matplotlib.axes._subplots.AxesSubplot at 0x7fc95bb81510>"
            ]
          },
          "metadata": {},
          "execution_count": 10
        },
        {
          "output_type": "display_data",
          "data": {
            "image/png": "[encoded data removed]",
            "text/plain": [
              "<Figure size 432x288 with 1 Axes>"
            ]
          },
          "metadata": {
            "needs_background": "light"
          }
        }
      ]
    },
    {
      "cell_type": "code",
      "metadata": {
        "id": "7nlnxh_r673p",
        "outputId": "a460ac1e-d365-47ed-b0a1-954826b8e278",
        "colab": {
          "base_uri": "https://localhost:8080/",
          "height": 1000
        }
      },
      "source": [
        "df1 = nine[(nine['Year'] == 2015) & (nine['Reason'] == 'EMS' )]\n",
        "df1"
      ],
      "execution_count": 11,
      "outputs": [
        {
          "output_type": "execute_result",
          "data": {
            "text/html": [
              "<div>\n",
              "<style scoped>\n",
              "    .dataframe tbody tr th:only-of-type {\n",
              "        vertical-align: middle;\n",
              "    }\n",
              "\n",
              "    .dataframe tbody tr th {\n",
              "        vertical-align: top;\n",
              "    }\n",
              "\n",
              "    .dataframe thead th {\n",
              "        text-align: right;\n",
              "    }\n",
              "</style>\n",
              "<table border=\"1\" class=\"dataframe\">\n",
              "  <thead>\n",
              "    <tr style=\"text-align: right;\">\n",
              "      <th></th>\n",
              "      <th>lat</th>\n",
              "      <th>lng</th>\n",
              "      <th>desc</th>\n",
              "      <th>zip</th>\n",
              "      <th>title</th>\n",
              "      <th>timeStamp</th>\n",
              "      <th>twp</th>\n",
              "      <th>addr</th>\n",
              "      <th>e</th>\n",
              "      <th>Reason</th>\n",
              "      <th>hour</th>\n",
              "      <th>month</th>\n",
              "      <th>day of week</th>\n",
              "      <th>Year</th>\n",
              "    </tr>\n",
              "  </thead>\n",
              "  <tbody>\n",
              "    <tr>\n",
              "      <th>0</th>\n",
              "      <td>40.297876</td>\n",
              "      <td>-75.581294</td>\n",
              "      <td>REINDEER CT &amp; DEAD END;  NEW HANOVER; Station ...</td>\n",
              "      <td>19525.0</td>\n",
              "      <td>EMS: BACK PAINS/INJURY</td>\n",
              "      <td>2015-12-10 17:10:52</td>\n",
              "      <td>NEW HANOVER</td>\n",
              "      <td>REINDEER CT &amp; DEAD END</td>\n",
              "      <td>1.0</td>\n",
              "      <td>EMS</td>\n",
              "      <td>17.0</td>\n",
              "      <td>12.0</td>\n",
              "      <td>Thu</td>\n",
              "      <td>2015.0</td>\n",
              "    </tr>\n",
              "    <tr>\n",
              "      <th>1</th>\n",
              "      <td>40.258061</td>\n",
              "      <td>-75.264680</td>\n",
              "      <td>BRIAR PATH &amp; WHITEMARSH LN;  HATFIELD TOWNSHIP...</td>\n",
              "      <td>19446.0</td>\n",
              "      <td>EMS: DIABETIC EMERGENCY</td>\n",
              "      <td>2015-12-10 17:29:21</td>\n",
              "      <td>HATFIELD TOWNSHIP</td>\n",
              "      <td>BRIAR PATH &amp; WHITEMARSH LN</td>\n",
              "      <td>1.0</td>\n",
              "      <td>EMS</td>\n",
              "      <td>17.0</td>\n",
              "      <td>12.0</td>\n",
              "      <td>Thu</td>\n",
              "      <td>2015.0</td>\n",
              "    </tr>\n",
              "    <tr>\n",
              "      <th>3</th>\n",
              "      <td>40.116153</td>\n",
              "      <td>-75.343513</td>\n",
              "      <td>AIRY ST &amp; SWEDE ST;  NORRISTOWN; Station 308A;...</td>\n",
              "      <td>19401.0</td>\n",
              "      <td>EMS: CARDIAC EMERGENCY</td>\n",
              "      <td>2015-12-10 16:47:36</td>\n",
              "      <td>NORRISTOWN</td>\n",
              "      <td>AIRY ST &amp; SWEDE ST</td>\n",
              "      <td>1.0</td>\n",
              "      <td>EMS</td>\n",
              "      <td>16.0</td>\n",
              "      <td>12.0</td>\n",
              "      <td>Thu</td>\n",
              "      <td>2015.0</td>\n",
              "    </tr>\n",
              "    <tr>\n",
              "      <th>4</th>\n",
              "      <td>40.251492</td>\n",
              "      <td>-75.603350</td>\n",
              "      <td>CHERRYWOOD CT &amp; DEAD END;  LOWER POTTSGROVE; S...</td>\n",
              "      <td>NaN</td>\n",
              "      <td>EMS: DIZZINESS</td>\n",
              "      <td>2015-12-10 16:56:52</td>\n",
              "      <td>LOWER POTTSGROVE</td>\n",
              "      <td>CHERRYWOOD CT &amp; DEAD END</td>\n",
              "      <td>1.0</td>\n",
              "      <td>EMS</td>\n",
              "      <td>16.0</td>\n",
              "      <td>12.0</td>\n",
              "      <td>Thu</td>\n",
              "      <td>2015.0</td>\n",
              "    </tr>\n",
              "    <tr>\n",
              "      <th>5</th>\n",
              "      <td>40.253473</td>\n",
              "      <td>-75.283245</td>\n",
              "      <td>CANNON AVE &amp; W 9TH ST;  LANSDALE; Station 345;...</td>\n",
              "      <td>19446.0</td>\n",
              "      <td>EMS: HEAD INJURY</td>\n",
              "      <td>2015-12-10 15:39:04</td>\n",
              "      <td>LANSDALE</td>\n",
              "      <td>CANNON AVE &amp; W 9TH ST</td>\n",
              "      <td>1.0</td>\n",
              "      <td>EMS</td>\n",
              "      <td>15.0</td>\n",
              "      <td>12.0</td>\n",
              "      <td>Thu</td>\n",
              "      <td>2015.0</td>\n",
              "    </tr>\n",
              "    <tr>\n",
              "      <th>...</th>\n",
              "      <td>...</td>\n",
              "      <td>...</td>\n",
              "      <td>...</td>\n",
              "      <td>...</td>\n",
              "      <td>...</td>\n",
              "      <td>...</td>\n",
              "      <td>...</td>\n",
              "      <td>...</td>\n",
              "      <td>...</td>\n",
              "      <td>...</td>\n",
              "      <td>...</td>\n",
              "      <td>...</td>\n",
              "      <td>...</td>\n",
              "      <td>...</td>\n",
              "    </tr>\n",
              "    <tr>\n",
              "      <th>7908</th>\n",
              "      <td>40.148771</td>\n",
              "      <td>-75.085515</td>\n",
              "      <td>HUNTINGDON RD &amp; MASONS MILL RD;  UPPER MORELAN...</td>\n",
              "      <td>19006.0</td>\n",
              "      <td>EMS: FALL VICTIM</td>\n",
              "      <td>2015-12-31 23:24:06</td>\n",
              "      <td>UPPER MORELAND</td>\n",
              "      <td>HUNTINGDON RD &amp; MASONS MILL RD</td>\n",
              "      <td>1.0</td>\n",
              "      <td>EMS</td>\n",
              "      <td>23.0</td>\n",
              "      <td>12.0</td>\n",
              "      <td>Thu</td>\n",
              "      <td>2015.0</td>\n",
              "    </tr>\n",
              "    <tr>\n",
              "      <th>7910</th>\n",
              "      <td>40.252593</td>\n",
              "      <td>-75.247293</td>\n",
              "      <td>BETHLEHEM PIKE;  BUCKS COUNTY; Station 345; 20...</td>\n",
              "      <td>NaN</td>\n",
              "      <td>EMS: VEHICLE ACCIDENT</td>\n",
              "      <td>2015-12-31 23:41:52</td>\n",
              "      <td>BUCKS COUNTY</td>\n",
              "      <td>BETHLEHEM PIKE</td>\n",
              "      <td>1.0</td>\n",
              "      <td>EMS</td>\n",
              "      <td>23.0</td>\n",
              "      <td>12.0</td>\n",
              "      <td>Thu</td>\n",
              "      <td>2015.0</td>\n",
              "    </tr>\n",
              "    <tr>\n",
              "      <th>7912</th>\n",
              "      <td>40.136020</td>\n",
              "      <td>-75.354606</td>\n",
              "      <td>BEECH DR &amp; SPRUCE ST;  WEST NORRITON; Station ...</td>\n",
              "      <td>19403.0</td>\n",
              "      <td>EMS: SEIZURES</td>\n",
              "      <td>2015-12-31 23:44:56</td>\n",
              "      <td>WEST NORRITON</td>\n",
              "      <td>BEECH DR &amp; SPRUCE ST</td>\n",
              "      <td>1.0</td>\n",
              "      <td>EMS</td>\n",
              "      <td>23.0</td>\n",
              "      <td>12.0</td>\n",
              "      <td>Thu</td>\n",
              "      <td>2015.0</td>\n",
              "    </tr>\n",
              "    <tr>\n",
              "      <th>7913</th>\n",
              "      <td>40.294817</td>\n",
              "      <td>-75.537972</td>\n",
              "      <td>BIG RD &amp; COLONIAL RD;  UPPER FREDERICK; Statio...</td>\n",
              "      <td>18074.0</td>\n",
              "      <td>EMS: FALL VICTIM</td>\n",
              "      <td>2015-12-31 23:54:02</td>\n",
              "      <td>UPPER FREDERICK</td>\n",
              "      <td>BIG RD &amp; COLONIAL RD</td>\n",
              "      <td>1.0</td>\n",
              "      <td>EMS</td>\n",
              "      <td>23.0</td>\n",
              "      <td>12.0</td>\n",
              "      <td>Thu</td>\n",
              "      <td>2015.0</td>\n",
              "    </tr>\n",
              "    <tr>\n",
              "      <th>7914</th>\n",
              "      <td>40.112336</td>\n",
              "      <td>-75.150554</td>\n",
              "      <td>ROBERTS AVE &amp; JENKINTOWN RD;  ABINGTON; Statio...</td>\n",
              "      <td>19038.0</td>\n",
              "      <td>EMS: CARDIAC EMERGENCY</td>\n",
              "      <td>2015-12-31 23:53:19</td>\n",
              "      <td>ABINGTON</td>\n",
              "      <td>ROBERTS AVE &amp; JENKINTOWN RD</td>\n",
              "      <td>1.0</td>\n",
              "      <td>EMS</td>\n",
              "      <td>23.0</td>\n",
              "      <td>12.0</td>\n",
              "      <td>Thu</td>\n",
              "      <td>2015.0</td>\n",
              "    </tr>\n",
              "  </tbody>\n",
              "</table>\n",
              "<p>3898 rows × 14 columns</p>\n",
              "</div>"
            ],
            "text/plain": [
              "            lat        lng  ... day of week    Year\n",
              "0     40.297876 -75.581294  ...         Thu  2015.0\n",
              "1     40.258061 -75.264680  ...         Thu  2015.0\n",
              "3     40.116153 -75.343513  ...         Thu  2015.0\n",
              "4     40.251492 -75.603350  ...         Thu  2015.0\n",
              "5     40.253473 -75.283245  ...         Thu  2015.0\n",
              "...         ...        ...  ...         ...     ...\n",
              "7908  40.148771 -75.085515  ...         Thu  2015.0\n",
              "7910  40.252593 -75.247293  ...         Thu  2015.0\n",
              "7912  40.136020 -75.354606  ...         Thu  2015.0\n",
              "7913  40.294817 -75.537972  ...         Thu  2015.0\n",
              "7914  40.112336 -75.150554  ...         Thu  2015.0\n",
              "\n",
              "[3898 rows x 14 columns]"
            ]
          },
          "metadata": {},
          "execution_count": 11
        }
      ]
    },
    {
      "cell_type": "code",
      "metadata": {
        "id": "h2M4LlKG6-QV",
        "outputId": "2710e5e0-1da3-44a4-fe5f-2515668ebbb9",
        "colab": {
          "base_uri": "https://localhost:8080/",
          "height": 49
        }
      },
      "source": [
        "nine[nine['month'] == 11]"
      ],
      "execution_count": 12,
      "outputs": [
        {
          "output_type": "execute_result",
          "data": {
            "text/html": [
              "<div>\n",
              "<style scoped>\n",
              "    .dataframe tbody tr th:only-of-type {\n",
              "        vertical-align: middle;\n",
              "    }\n",
              "\n",
              "    .dataframe tbody tr th {\n",
              "        vertical-align: top;\n",
              "    }\n",
              "\n",
              "    .dataframe thead th {\n",
              "        text-align: right;\n",
              "    }\n",
              "</style>\n",
              "<table border=\"1\" class=\"dataframe\">\n",
              "  <thead>\n",
              "    <tr style=\"text-align: right;\">\n",
              "      <th></th>\n",
              "      <th>lat</th>\n",
              "      <th>lng</th>\n",
              "      <th>desc</th>\n",
              "      <th>zip</th>\n",
              "      <th>title</th>\n",
              "      <th>timeStamp</th>\n",
              "      <th>twp</th>\n",
              "      <th>addr</th>\n",
              "      <th>e</th>\n",
              "      <th>Reason</th>\n",
              "      <th>hour</th>\n",
              "      <th>month</th>\n",
              "      <th>day of week</th>\n",
              "      <th>Year</th>\n",
              "    </tr>\n",
              "  </thead>\n",
              "  <tbody>\n",
              "  </tbody>\n",
              "</table>\n",
              "</div>"
            ],
            "text/plain": [
              "Empty DataFrame\n",
              "Columns: [lat, lng, desc, zip, title, timeStamp, twp, addr, e, Reason, hour, month, day of week, Year]\n",
              "Index: []"
            ]
          },
          "metadata": {},
          "execution_count": 12
        }
      ]
    },
    {
      "cell_type": "code",
      "metadata": {
        "id": "aEIfHmM87CfH",
        "outputId": "6cf9c52f-a8cc-4615-8e09-021fd688484d",
        "colab": {
          "base_uri": "https://localhost:8080/"
        }
      },
      "source": [
        "nine['twp'].value_counts()"
      ],
      "execution_count": 13,
      "outputs": [
        {
          "output_type": "execute_result",
          "data": {
            "text/plain": [
              "LOWER MERION     1485\n",
              "NORRISTOWN       1195\n",
              "ABINGTON         1173\n",
              "UPPER MERION     1049\n",
              "CHELTENHAM        871\n",
              "                 ... \n",
              "HATFIELD BORO      31\n",
              "SALFORD            30\n",
              "LEHIGH COUNTY       8\n",
              "GREEN LANE          7\n",
              "PHILA COUNTY        4\n",
              "Name: twp, Length: 68, dtype: int64"
            ]
          },
          "metadata": {},
          "execution_count": 13
        }
      ]
    }
  ]
}