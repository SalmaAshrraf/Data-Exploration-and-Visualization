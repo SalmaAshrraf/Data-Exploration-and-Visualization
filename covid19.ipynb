{
  "nbformat": 4,
  "nbformat_minor": 0,
  "metadata": {
    "colab": {
      "name": "covid19.ipynb",
      "provenance": []
    },
    "kernelspec": {
      "name": "python3",
      "display_name": "Python 3"
    },
    "language_info": {
      "name": "python"
    }
  },
  "cells": [
    {
      "cell_type": "code",
      "metadata": {
        "id": "OOTVQ28w8TcR"
      },
      "source": [
        "import pandas as pd\n",
        "import numpy as np\n",
        "import seaborn as sns\n",
        "import matplotlib.pylab as plt"
      ],
      "execution_count": 1,
      "outputs": []
    },
    {
      "cell_type": "code",
      "metadata": {
        "colab": {
          "base_uri": "https://localhost:8080/",
          "height": 274
        },
        "id": "zWaxOaJJ8VtN",
        "outputId": "70c5d4ed-d500-4b50-c066-2cdd8755f1d5"
      },
      "source": [
        "covidb = pd.read_csv('/content/covid-19.csv')\n",
        "covidb.head()"
      ],
      "execution_count": 2,
      "outputs": [
        {
          "output_type": "execute_result",
          "data": {
            "text/html": [
              "<div>\n",
              "<style scoped>\n",
              "    .dataframe tbody tr th:only-of-type {\n",
              "        vertical-align: middle;\n",
              "    }\n",
              "\n",
              "    .dataframe tbody tr th {\n",
              "        vertical-align: top;\n",
              "    }\n",
              "\n",
              "    .dataframe thead th {\n",
              "        text-align: right;\n",
              "    }\n",
              "</style>\n",
              "<table border=\"1\" class=\"dataframe\">\n",
              "  <thead>\n",
              "    <tr style=\"text-align: right;\">\n",
              "      <th></th>\n",
              "      <th>Country/Region</th>\n",
              "      <th>Confirmed</th>\n",
              "      <th>Deaths</th>\n",
              "      <th>Recovered</th>\n",
              "      <th>Active</th>\n",
              "      <th>New cases</th>\n",
              "      <th>New deaths</th>\n",
              "      <th>New recovered</th>\n",
              "      <th>Deaths / 100 Cases</th>\n",
              "      <th>Recovered / 100 Cases</th>\n",
              "      <th>Deaths / 100 Recovered</th>\n",
              "      <th>Confirmed last week</th>\n",
              "      <th>1 week change</th>\n",
              "      <th>1 week % increase</th>\n",
              "      <th>WHO Region</th>\n",
              "    </tr>\n",
              "  </thead>\n",
              "  <tbody>\n",
              "    <tr>\n",
              "      <th>0</th>\n",
              "      <td>Afghanistan</td>\n",
              "      <td>36263</td>\n",
              "      <td>1269</td>\n",
              "      <td>25198</td>\n",
              "      <td>9796</td>\n",
              "      <td>106</td>\n",
              "      <td>10</td>\n",
              "      <td>18</td>\n",
              "      <td>3.50</td>\n",
              "      <td>69.49</td>\n",
              "      <td>5.04</td>\n",
              "      <td>35526</td>\n",
              "      <td>737</td>\n",
              "      <td>2.07</td>\n",
              "      <td>Eastern Mediterranean</td>\n",
              "    </tr>\n",
              "    <tr>\n",
              "      <th>1</th>\n",
              "      <td>Albania</td>\n",
              "      <td>4880</td>\n",
              "      <td>144</td>\n",
              "      <td>2745</td>\n",
              "      <td>1991</td>\n",
              "      <td>117</td>\n",
              "      <td>6</td>\n",
              "      <td>63</td>\n",
              "      <td>2.95</td>\n",
              "      <td>56.25</td>\n",
              "      <td>5.25</td>\n",
              "      <td>4171</td>\n",
              "      <td>709</td>\n",
              "      <td>17.00</td>\n",
              "      <td>Europe</td>\n",
              "    </tr>\n",
              "    <tr>\n",
              "      <th>2</th>\n",
              "      <td>Algeria</td>\n",
              "      <td>27973</td>\n",
              "      <td>1163</td>\n",
              "      <td>18837</td>\n",
              "      <td>7973</td>\n",
              "      <td>616</td>\n",
              "      <td>8</td>\n",
              "      <td>749</td>\n",
              "      <td>4.16</td>\n",
              "      <td>67.34</td>\n",
              "      <td>6.17</td>\n",
              "      <td>23691</td>\n",
              "      <td>4282</td>\n",
              "      <td>18.07</td>\n",
              "      <td>Africa</td>\n",
              "    </tr>\n",
              "    <tr>\n",
              "      <th>3</th>\n",
              "      <td>Andorra</td>\n",
              "      <td>907</td>\n",
              "      <td>52</td>\n",
              "      <td>803</td>\n",
              "      <td>52</td>\n",
              "      <td>10</td>\n",
              "      <td>0</td>\n",
              "      <td>0</td>\n",
              "      <td>5.73</td>\n",
              "      <td>88.53</td>\n",
              "      <td>6.48</td>\n",
              "      <td>884</td>\n",
              "      <td>23</td>\n",
              "      <td>2.60</td>\n",
              "      <td>Europe</td>\n",
              "    </tr>\n",
              "    <tr>\n",
              "      <th>4</th>\n",
              "      <td>Angola</td>\n",
              "      <td>950</td>\n",
              "      <td>41</td>\n",
              "      <td>242</td>\n",
              "      <td>667</td>\n",
              "      <td>18</td>\n",
              "      <td>1</td>\n",
              "      <td>0</td>\n",
              "      <td>4.32</td>\n",
              "      <td>25.47</td>\n",
              "      <td>16.94</td>\n",
              "      <td>749</td>\n",
              "      <td>201</td>\n",
              "      <td>26.84</td>\n",
              "      <td>Africa</td>\n",
              "    </tr>\n",
              "  </tbody>\n",
              "</table>\n",
              "</div>"
            ],
            "text/plain": [
              "  Country/Region  Confirmed  ...  1 week % increase             WHO Region\n",
              "0    Afghanistan      36263  ...               2.07  Eastern Mediterranean\n",
              "1        Albania       4880  ...              17.00                 Europe\n",
              "2        Algeria      27973  ...              18.07                 Africa\n",
              "3        Andorra        907  ...               2.60                 Europe\n",
              "4         Angola        950  ...              26.84                 Africa\n",
              "\n",
              "[5 rows x 15 columns]"
            ]
          },
          "metadata": {},
          "execution_count": 2
        }
      ]
    },
    {
      "cell_type": "code",
      "metadata": {
        "colab": {
          "base_uri": "https://localhost:8080/"
        },
        "id": "lU0kdP_M8qf9",
        "outputId": "250ab230-56f7-4e60-80c0-1b82f207b080"
      },
      "source": [
        "covidb.columns"
      ],
      "execution_count": 3,
      "outputs": [
        {
          "output_type": "execute_result",
          "data": {
            "text/plain": [
              "Index(['Country/Region', 'Confirmed', 'Deaths', 'Recovered', 'Active',\n",
              "       'New cases', 'New deaths', 'New recovered', 'Deaths / 100 Cases',\n",
              "       'Recovered / 100 Cases', 'Deaths / 100 Recovered',\n",
              "       'Confirmed last week', '1 week change', '1 week % increase',\n",
              "       'WHO Region'],\n",
              "      dtype='object')"
            ]
          },
          "metadata": {},
          "execution_count": 3
        }
      ]
    },
    {
      "cell_type": "code",
      "metadata": {
        "colab": {
          "base_uri": "https://localhost:8080/",
          "height": 349
        },
        "id": "U6OWj3uV8tam",
        "outputId": "99000447-6a26-4b56-c1ad-3f83579317ac"
      },
      "source": [
        "covidb.describe()"
      ],
      "execution_count": 4,
      "outputs": [
        {
          "output_type": "execute_result",
          "data": {
            "text/html": [
              "<div>\n",
              "<style scoped>\n",
              "    .dataframe tbody tr th:only-of-type {\n",
              "        vertical-align: middle;\n",
              "    }\n",
              "\n",
              "    .dataframe tbody tr th {\n",
              "        vertical-align: top;\n",
              "    }\n",
              "\n",
              "    .dataframe thead th {\n",
              "        text-align: right;\n",
              "    }\n",
              "</style>\n",
              "<table border=\"1\" class=\"dataframe\">\n",
              "  <thead>\n",
              "    <tr style=\"text-align: right;\">\n",
              "      <th></th>\n",
              "      <th>Confirmed</th>\n",
              "      <th>Deaths</th>\n",
              "      <th>Recovered</th>\n",
              "      <th>Active</th>\n",
              "      <th>New cases</th>\n",
              "      <th>New deaths</th>\n",
              "      <th>New recovered</th>\n",
              "      <th>Deaths / 100 Cases</th>\n",
              "      <th>Recovered / 100 Cases</th>\n",
              "      <th>Deaths / 100 Recovered</th>\n",
              "      <th>Confirmed last week</th>\n",
              "      <th>1 week change</th>\n",
              "      <th>1 week % increase</th>\n",
              "    </tr>\n",
              "  </thead>\n",
              "  <tbody>\n",
              "    <tr>\n",
              "      <th>count</th>\n",
              "      <td>1.870000e+02</td>\n",
              "      <td>187.000000</td>\n",
              "      <td>1.870000e+02</td>\n",
              "      <td>1.870000e+02</td>\n",
              "      <td>187.000000</td>\n",
              "      <td>187.000000</td>\n",
              "      <td>187.000000</td>\n",
              "      <td>187.000000</td>\n",
              "      <td>187.000000</td>\n",
              "      <td>187.00</td>\n",
              "      <td>1.870000e+02</td>\n",
              "      <td>187.000000</td>\n",
              "      <td>187.000000</td>\n",
              "    </tr>\n",
              "    <tr>\n",
              "      <th>mean</th>\n",
              "      <td>8.813094e+04</td>\n",
              "      <td>3497.518717</td>\n",
              "      <td>5.063148e+04</td>\n",
              "      <td>3.400194e+04</td>\n",
              "      <td>1222.957219</td>\n",
              "      <td>28.957219</td>\n",
              "      <td>933.812834</td>\n",
              "      <td>3.019519</td>\n",
              "      <td>64.820535</td>\n",
              "      <td>inf</td>\n",
              "      <td>7.868248e+04</td>\n",
              "      <td>9448.459893</td>\n",
              "      <td>13.606203</td>\n",
              "    </tr>\n",
              "    <tr>\n",
              "      <th>std</th>\n",
              "      <td>3.833187e+05</td>\n",
              "      <td>14100.002482</td>\n",
              "      <td>1.901882e+05</td>\n",
              "      <td>2.133262e+05</td>\n",
              "      <td>5710.374790</td>\n",
              "      <td>120.037173</td>\n",
              "      <td>4197.719635</td>\n",
              "      <td>3.454302</td>\n",
              "      <td>26.287694</td>\n",
              "      <td>NaN</td>\n",
              "      <td>3.382737e+05</td>\n",
              "      <td>47491.127684</td>\n",
              "      <td>24.509838</td>\n",
              "    </tr>\n",
              "    <tr>\n",
              "      <th>min</th>\n",
              "      <td>1.000000e+01</td>\n",
              "      <td>0.000000</td>\n",
              "      <td>0.000000e+00</td>\n",
              "      <td>0.000000e+00</td>\n",
              "      <td>0.000000</td>\n",
              "      <td>0.000000</td>\n",
              "      <td>0.000000</td>\n",
              "      <td>0.000000</td>\n",
              "      <td>0.000000</td>\n",
              "      <td>0.00</td>\n",
              "      <td>1.000000e+01</td>\n",
              "      <td>-47.000000</td>\n",
              "      <td>-3.840000</td>\n",
              "    </tr>\n",
              "    <tr>\n",
              "      <th>25%</th>\n",
              "      <td>1.114000e+03</td>\n",
              "      <td>18.500000</td>\n",
              "      <td>6.265000e+02</td>\n",
              "      <td>1.415000e+02</td>\n",
              "      <td>4.000000</td>\n",
              "      <td>0.000000</td>\n",
              "      <td>0.000000</td>\n",
              "      <td>0.945000</td>\n",
              "      <td>48.770000</td>\n",
              "      <td>1.45</td>\n",
              "      <td>1.051500e+03</td>\n",
              "      <td>49.000000</td>\n",
              "      <td>2.775000</td>\n",
              "    </tr>\n",
              "    <tr>\n",
              "      <th>50%</th>\n",
              "      <td>5.059000e+03</td>\n",
              "      <td>108.000000</td>\n",
              "      <td>2.815000e+03</td>\n",
              "      <td>1.600000e+03</td>\n",
              "      <td>49.000000</td>\n",
              "      <td>1.000000</td>\n",
              "      <td>22.000000</td>\n",
              "      <td>2.150000</td>\n",
              "      <td>71.320000</td>\n",
              "      <td>3.62</td>\n",
              "      <td>5.020000e+03</td>\n",
              "      <td>432.000000</td>\n",
              "      <td>6.890000</td>\n",
              "    </tr>\n",
              "    <tr>\n",
              "      <th>75%</th>\n",
              "      <td>4.046050e+04</td>\n",
              "      <td>734.000000</td>\n",
              "      <td>2.260600e+04</td>\n",
              "      <td>9.149000e+03</td>\n",
              "      <td>419.500000</td>\n",
              "      <td>6.000000</td>\n",
              "      <td>221.000000</td>\n",
              "      <td>3.875000</td>\n",
              "      <td>86.885000</td>\n",
              "      <td>6.44</td>\n",
              "      <td>3.708050e+04</td>\n",
              "      <td>3172.000000</td>\n",
              "      <td>16.855000</td>\n",
              "    </tr>\n",
              "    <tr>\n",
              "      <th>max</th>\n",
              "      <td>4.290259e+06</td>\n",
              "      <td>148011.000000</td>\n",
              "      <td>1.846641e+06</td>\n",
              "      <td>2.816444e+06</td>\n",
              "      <td>56336.000000</td>\n",
              "      <td>1076.000000</td>\n",
              "      <td>33728.000000</td>\n",
              "      <td>28.560000</td>\n",
              "      <td>100.000000</td>\n",
              "      <td>inf</td>\n",
              "      <td>3.834677e+06</td>\n",
              "      <td>455582.000000</td>\n",
              "      <td>226.320000</td>\n",
              "    </tr>\n",
              "  </tbody>\n",
              "</table>\n",
              "</div>"
            ],
            "text/plain": [
              "          Confirmed         Deaths  ...  1 week change  1 week % increase\n",
              "count  1.870000e+02     187.000000  ...     187.000000         187.000000\n",
              "mean   8.813094e+04    3497.518717  ...    9448.459893          13.606203\n",
              "std    3.833187e+05   14100.002482  ...   47491.127684          24.509838\n",
              "min    1.000000e+01       0.000000  ...     -47.000000          -3.840000\n",
              "25%    1.114000e+03      18.500000  ...      49.000000           2.775000\n",
              "50%    5.059000e+03     108.000000  ...     432.000000           6.890000\n",
              "75%    4.046050e+04     734.000000  ...    3172.000000          16.855000\n",
              "max    4.290259e+06  148011.000000  ...  455582.000000         226.320000\n",
              "\n",
              "[8 rows x 13 columns]"
            ]
          },
          "metadata": {},
          "execution_count": 4
        }
      ]
    },
    {
      "cell_type": "code",
      "metadata": {
        "colab": {
          "base_uri": "https://localhost:8080/"
        },
        "id": "nmh3cDEW8xga",
        "outputId": "f6c15562-489f-4728-f64e-c3c79e9075c4"
      },
      "source": [
        "covidb.info()"
      ],
      "execution_count": 5,
      "outputs": [
        {
          "output_type": "stream",
          "name": "stdout",
          "text": [
            "<class 'pandas.core.frame.DataFrame'>\n",
            "RangeIndex: 187 entries, 0 to 186\n",
            "Data columns (total 15 columns):\n",
            " #   Column                  Non-Null Count  Dtype  \n",
            "---  ------                  --------------  -----  \n",
            " 0   Country/Region          187 non-null    object \n",
            " 1   Confirmed               187 non-null    int64  \n",
            " 2   Deaths                  187 non-null    int64  \n",
            " 3   Recovered               187 non-null    int64  \n",
            " 4   Active                  187 non-null    int64  \n",
            " 5   New cases               187 non-null    int64  \n",
            " 6   New deaths              187 non-null    int64  \n",
            " 7   New recovered           187 non-null    int64  \n",
            " 8   Deaths / 100 Cases      187 non-null    float64\n",
            " 9   Recovered / 100 Cases   187 non-null    float64\n",
            " 10  Deaths / 100 Recovered  187 non-null    float64\n",
            " 11  Confirmed last week     187 non-null    int64  \n",
            " 12  1 week change           187 non-null    int64  \n",
            " 13  1 week % increase       187 non-null    float64\n",
            " 14  WHO Region              187 non-null    object \n",
            "dtypes: float64(4), int64(9), object(2)\n",
            "memory usage: 22.0+ KB\n"
          ]
        }
      ]
    },
    {
      "cell_type": "code",
      "metadata": {
        "colab": {
          "base_uri": "https://localhost:8080/"
        },
        "id": "OLbaAfHz83Zw",
        "outputId": "d64105e8-c60c-4fe7-e27f-19e285d8623d"
      },
      "source": [
        "covidb['WHO Region'].unique()"
      ],
      "execution_count": 6,
      "outputs": [
        {
          "output_type": "execute_result",
          "data": {
            "text/plain": [
              "array(['Eastern Mediterranean', 'Europe', 'Africa', 'Americas',\n",
              "       'Western Pacific', 'South-East Asia'], dtype=object)"
            ]
          },
          "metadata": {},
          "execution_count": 6
        }
      ]
    },
    {
      "cell_type": "code",
      "metadata": {
        "colab": {
          "base_uri": "https://localhost:8080/",
          "height": 405
        },
        "id": "3SFHknBA86Z5",
        "outputId": "22c8409b-ff52-440d-d8c5-c7cf95d4c1b1"
      },
      "source": [
        "plt.figure(figsize=(12,6))\n",
        "sns.countplot(data=covidb , x='WHO Region')"
      ],
      "execution_count": 7,
      "outputs": [
        {
          "output_type": "execute_result",
          "data": {
            "text/plain": [
              "<matplotlib.axes._subplots.AxesSubplot at 0x7fc285071d50>"
            ]
          },
          "metadata": {},
          "execution_count": 7
        },
        {
          "output_type": "display_data",
          "data": {
            "image/png": "[encoded data removed]",
            "text/plain": [
              "<Figure size 864x432 with 1 Axes>"
            ]
          },
          "metadata": {
            "needs_background": "light"
          }
        }
      ]
    },
    {
      "cell_type": "code",
      "metadata": {
        "colab": {
          "base_uri": "https://localhost:8080/"
        },
        "id": "LXMvtt7p8_1k",
        "outputId": "8662a3ec-a4f9-4d18-939f-8e6ab9731061"
      },
      "source": [
        "mnkasd = covidb['WHO Region'].unique()\n",
        "rank = []\n",
        "for item in mnkasd:\n",
        "    print(covidb[covidb['WHO Region'] == item]['Deaths'].sum())\n",
        "    rank.append(covidb[covidb['WHO Region'] == item]['Deaths'].sum())\n",
        "\n",
        "rank"
      ],
      "execution_count": 8,
      "outputs": [
        {
          "output_type": "stream",
          "name": "stdout",
          "text": [
            "38339\n",
            "211144\n",
            "12223\n",
            "342732\n",
            "8249\n",
            "41349\n"
          ]
        },
        {
          "output_type": "execute_result",
          "data": {
            "text/plain": [
              "[38339, 211144, 12223, 342732, 8249, 41349]"
            ]
          },
          "metadata": {},
          "execution_count": 8
        }
      ]
    },
    {
      "cell_type": "code",
      "metadata": {
        "colab": {
          "base_uri": "https://localhost:8080/"
        },
        "id": "ctdmF0As9Dlu",
        "outputId": "5713e971-6be5-40d6-9b46-f05eb6f35c4d"
      },
      "source": [
        "covidb.corr()['Deaths'].sort_values(ascending = False)"
      ],
      "execution_count": 9,
      "outputs": [
        {
          "output_type": "execute_result",
          "data": {
            "text/plain": [
              "Deaths                    1.000000\n",
              "Confirmed last week       0.939082\n",
              "Confirmed                 0.934698\n",
              "Active                    0.871586\n",
              "1 week change             0.855330\n",
              "Recovered                 0.832098\n",
              "New deaths                0.814161\n",
              "New cases                 0.806975\n",
              "New recovered             0.765114\n",
              "Deaths / 100 Cases        0.251565\n",
              "Deaths / 100 Recovered    0.169006\n",
              "1 week % increase        -0.034708\n",
              "Recovered / 100 Cases    -0.114529\n",
              "Name: Deaths, dtype: float64"
            ]
          },
          "metadata": {},
          "execution_count": 9
        }
      ]
    },
    {
      "cell_type": "code",
      "metadata": {
        "colab": {
          "base_uri": "https://localhost:8080/",
          "height": 134
        },
        "id": "S2Zx0ne19G_k",
        "outputId": "c29bbec2-187c-4df7-e4e9-49218d0bd413"
      },
      "source": [
        "covidb[covidb['Confirmed'] == covidb['Confirmed'].max()]"
      ],
      "execution_count": 10,
      "outputs": [
        {
          "output_type": "execute_result",
          "data": {
            "text/html": [
              "<div>\n",
              "<style scoped>\n",
              "    .dataframe tbody tr th:only-of-type {\n",
              "        vertical-align: middle;\n",
              "    }\n",
              "\n",
              "    .dataframe tbody tr th {\n",
              "        vertical-align: top;\n",
              "    }\n",
              "\n",
              "    .dataframe thead th {\n",
              "        text-align: right;\n",
              "    }\n",
              "</style>\n",
              "<table border=\"1\" class=\"dataframe\">\n",
              "  <thead>\n",
              "    <tr style=\"text-align: right;\">\n",
              "      <th></th>\n",
              "      <th>Country/Region</th>\n",
              "      <th>Confirmed</th>\n",
              "      <th>Deaths</th>\n",
              "      <th>Recovered</th>\n",
              "      <th>Active</th>\n",
              "      <th>New cases</th>\n",
              "      <th>New deaths</th>\n",
              "      <th>New recovered</th>\n",
              "      <th>Deaths / 100 Cases</th>\n",
              "      <th>Recovered / 100 Cases</th>\n",
              "      <th>Deaths / 100 Recovered</th>\n",
              "      <th>Confirmed last week</th>\n",
              "      <th>1 week change</th>\n",
              "      <th>1 week % increase</th>\n",
              "      <th>WHO Region</th>\n",
              "    </tr>\n",
              "  </thead>\n",
              "  <tbody>\n",
              "    <tr>\n",
              "      <th>173</th>\n",
              "      <td>US</td>\n",
              "      <td>4290259</td>\n",
              "      <td>148011</td>\n",
              "      <td>1325804</td>\n",
              "      <td>2816444</td>\n",
              "      <td>56336</td>\n",
              "      <td>1076</td>\n",
              "      <td>27941</td>\n",
              "      <td>3.45</td>\n",
              "      <td>30.9</td>\n",
              "      <td>11.16</td>\n",
              "      <td>3834677</td>\n",
              "      <td>455582</td>\n",
              "      <td>11.88</td>\n",
              "      <td>Americas</td>\n",
              "    </tr>\n",
              "  </tbody>\n",
              "</table>\n",
              "</div>"
            ],
            "text/plain": [
              "    Country/Region  Confirmed  ...  1 week % increase  WHO Region\n",
              "173             US    4290259  ...              11.88    Americas\n",
              "\n",
              "[1 rows x 15 columns]"
            ]
          },
          "metadata": {},
          "execution_count": 10
        }
      ]
    },
    {
      "cell_type": "code",
      "metadata": {
        "colab": {
          "base_uri": "https://localhost:8080/"
        },
        "id": "v7LWLD7s9K13",
        "outputId": "80a9981e-2fe2-4608-c2a2-7697d05f55d4"
      },
      "source": [
        "covidb.nunique()"
      ],
      "execution_count": 11,
      "outputs": [
        {
          "output_type": "execute_result",
          "data": {
            "text/plain": [
              "Country/Region            187\n",
              "Confirmed                 184\n",
              "Deaths                    150\n",
              "Recovered                 178\n",
              "Active                    173\n",
              "New cases                 122\n",
              "New deaths                 38\n",
              "New recovered             103\n",
              "Deaths / 100 Cases        145\n",
              "Recovered / 100 Cases     177\n",
              "Deaths / 100 Recovered    155\n",
              "Confirmed last week       183\n",
              "1 week change             162\n",
              "1 week % increase         169\n",
              "WHO Region                  6\n",
              "dtype: int64"
            ]
          },
          "metadata": {},
          "execution_count": 11
        }
      ]
    },
    {
      "cell_type": "code",
      "metadata": {
        "colab": {
          "base_uri": "https://localhost:8080/",
          "height": 134
        },
        "id": "FJMMFY9y9P1c",
        "outputId": "4e205108-0106-4bdd-a134-f35d918f2f78"
      },
      "source": [
        "covidb[covidb['Confirmed'] == covidb['Confirmed'].min()]"
      ],
      "execution_count": 12,
      "outputs": [
        {
          "output_type": "execute_result",
          "data": {
            "text/html": [
              "<div>\n",
              "<style scoped>\n",
              "    .dataframe tbody tr th:only-of-type {\n",
              "        vertical-align: middle;\n",
              "    }\n",
              "\n",
              "    .dataframe tbody tr th {\n",
              "        vertical-align: top;\n",
              "    }\n",
              "\n",
              "    .dataframe thead th {\n",
              "        text-align: right;\n",
              "    }\n",
              "</style>\n",
              "<table border=\"1\" class=\"dataframe\">\n",
              "  <thead>\n",
              "    <tr style=\"text-align: right;\">\n",
              "      <th></th>\n",
              "      <th>Country/Region</th>\n",
              "      <th>Confirmed</th>\n",
              "      <th>Deaths</th>\n",
              "      <th>Recovered</th>\n",
              "      <th>Active</th>\n",
              "      <th>New cases</th>\n",
              "      <th>New deaths</th>\n",
              "      <th>New recovered</th>\n",
              "      <th>Deaths / 100 Cases</th>\n",
              "      <th>Recovered / 100 Cases</th>\n",
              "      <th>Deaths / 100 Recovered</th>\n",
              "      <th>Confirmed last week</th>\n",
              "      <th>1 week change</th>\n",
              "      <th>1 week % increase</th>\n",
              "      <th>WHO Region</th>\n",
              "    </tr>\n",
              "  </thead>\n",
              "  <tbody>\n",
              "    <tr>\n",
              "      <th>183</th>\n",
              "      <td>Western Sahara</td>\n",
              "      <td>10</td>\n",
              "      <td>1</td>\n",
              "      <td>8</td>\n",
              "      <td>1</td>\n",
              "      <td>0</td>\n",
              "      <td>0</td>\n",
              "      <td>0</td>\n",
              "      <td>10.0</td>\n",
              "      <td>80.0</td>\n",
              "      <td>12.5</td>\n",
              "      <td>10</td>\n",
              "      <td>0</td>\n",
              "      <td>0.0</td>\n",
              "      <td>Africa</td>\n",
              "    </tr>\n",
              "  </tbody>\n",
              "</table>\n",
              "</div>"
            ],
            "text/plain": [
              "     Country/Region  Confirmed  ...  1 week % increase  WHO Region\n",
              "183  Western Sahara         10  ...                0.0      Africa\n",
              "\n",
              "[1 rows x 15 columns]"
            ]
          },
          "metadata": {},
          "execution_count": 12
        }
      ]
    },
    {
      "cell_type": "code",
      "metadata": {
        "colab": {
          "base_uri": "https://localhost:8080/",
          "height": 134
        },
        "id": "TdhhIc3e9Uw7",
        "outputId": "41f297d7-d1ee-44d9-823c-9ecfc8b906c5"
      },
      "source": [
        "covidb[covidb['Deaths'] == 148011.000000]\n"
      ],
      "execution_count": 13,
      "outputs": [
        {
          "output_type": "execute_result",
          "data": {
            "text/html": [
              "<div>\n",
              "<style scoped>\n",
              "    .dataframe tbody tr th:only-of-type {\n",
              "        vertical-align: middle;\n",
              "    }\n",
              "\n",
              "    .dataframe tbody tr th {\n",
              "        vertical-align: top;\n",
              "    }\n",
              "\n",
              "    .dataframe thead th {\n",
              "        text-align: right;\n",
              "    }\n",
              "</style>\n",
              "<table border=\"1\" class=\"dataframe\">\n",
              "  <thead>\n",
              "    <tr style=\"text-align: right;\">\n",
              "      <th></th>\n",
              "      <th>Country/Region</th>\n",
              "      <th>Confirmed</th>\n",
              "      <th>Deaths</th>\n",
              "      <th>Recovered</th>\n",
              "      <th>Active</th>\n",
              "      <th>New cases</th>\n",
              "      <th>New deaths</th>\n",
              "      <th>New recovered</th>\n",
              "      <th>Deaths / 100 Cases</th>\n",
              "      <th>Recovered / 100 Cases</th>\n",
              "      <th>Deaths / 100 Recovered</th>\n",
              "      <th>Confirmed last week</th>\n",
              "      <th>1 week change</th>\n",
              "      <th>1 week % increase</th>\n",
              "      <th>WHO Region</th>\n",
              "    </tr>\n",
              "  </thead>\n",
              "  <tbody>\n",
              "    <tr>\n",
              "      <th>173</th>\n",
              "      <td>US</td>\n",
              "      <td>4290259</td>\n",
              "      <td>148011</td>\n",
              "      <td>1325804</td>\n",
              "      <td>2816444</td>\n",
              "      <td>56336</td>\n",
              "      <td>1076</td>\n",
              "      <td>27941</td>\n",
              "      <td>3.45</td>\n",
              "      <td>30.9</td>\n",
              "      <td>11.16</td>\n",
              "      <td>3834677</td>\n",
              "      <td>455582</td>\n",
              "      <td>11.88</td>\n",
              "      <td>Americas</td>\n",
              "    </tr>\n",
              "  </tbody>\n",
              "</table>\n",
              "</div>"
            ],
            "text/plain": [
              "    Country/Region  Confirmed  ...  1 week % increase  WHO Region\n",
              "173             US    4290259  ...              11.88    Americas\n",
              "\n",
              "[1 rows x 15 columns]"
            ]
          },
          "metadata": {},
          "execution_count": 13
        }
      ]
    },
    {
      "cell_type": "code",
      "metadata": {
        "colab": {
          "base_uri": "https://localhost:8080/"
        },
        "id": "hByoNZ5H9X6m",
        "outputId": "f3d729f0-7287-4ef7-e9d5-cb36c47b612c"
      },
      "source": [
        "\n",
        "covidb['Deaths'].sum()"
      ],
      "execution_count": 14,
      "outputs": [
        {
          "output_type": "execute_result",
          "data": {
            "text/plain": [
              "654036"
            ]
          },
          "metadata": {},
          "execution_count": 14
        }
      ]
    },
    {
      "cell_type": "code",
      "metadata": {
        "colab": {
          "base_uri": "https://localhost:8080/"
        },
        "id": "aga1KdeS9abd",
        "outputId": "62271706-dbdb-4f70-a35d-481ac5979d6d"
      },
      "source": [
        "covidb['Confirmed'].sum()\n"
      ],
      "execution_count": 15,
      "outputs": [
        {
          "output_type": "execute_result",
          "data": {
            "text/plain": [
              "16480485"
            ]
          },
          "metadata": {},
          "execution_count": 15
        }
      ]
    },
    {
      "cell_type": "code",
      "metadata": {
        "colab": {
          "base_uri": "https://localhost:8080/"
        },
        "id": "lMa0wolx9k03",
        "outputId": "e29b43da-67e6-4fb1-f672-a1dfafc19132"
      },
      "source": [
        "covidb['New cases'].sum()\n"
      ],
      "execution_count": 16,
      "outputs": [
        {
          "output_type": "execute_result",
          "data": {
            "text/plain": [
              "228693"
            ]
          },
          "metadata": {},
          "execution_count": 16
        }
      ]
    },
    {
      "cell_type": "code",
      "metadata": {
        "colab": {
          "base_uri": "https://localhost:8080/",
          "height": 290
        },
        "id": "DzjDIuag9p0c",
        "outputId": "c2cf16ed-ba51-4110-ea69-9bcd272e9bdc"
      },
      "source": [
        "covidb.nlargest(5,'Active')\n"
      ],
      "execution_count": 17,
      "outputs": [
        {
          "output_type": "execute_result",
          "data": {
            "text/html": [
              "<div>\n",
              "<style scoped>\n",
              "    .dataframe tbody tr th:only-of-type {\n",
              "        vertical-align: middle;\n",
              "    }\n",
              "\n",
              "    .dataframe tbody tr th {\n",
              "        vertical-align: top;\n",
              "    }\n",
              "\n",
              "    .dataframe thead th {\n",
              "        text-align: right;\n",
              "    }\n",
              "</style>\n",
              "<table border=\"1\" class=\"dataframe\">\n",
              "  <thead>\n",
              "    <tr style=\"text-align: right;\">\n",
              "      <th></th>\n",
              "      <th>Country/Region</th>\n",
              "      <th>Confirmed</th>\n",
              "      <th>Deaths</th>\n",
              "      <th>Recovered</th>\n",
              "      <th>Active</th>\n",
              "      <th>New cases</th>\n",
              "      <th>New deaths</th>\n",
              "      <th>New recovered</th>\n",
              "      <th>Deaths / 100 Cases</th>\n",
              "      <th>Recovered / 100 Cases</th>\n",
              "      <th>Deaths / 100 Recovered</th>\n",
              "      <th>Confirmed last week</th>\n",
              "      <th>1 week change</th>\n",
              "      <th>1 week % increase</th>\n",
              "      <th>WHO Region</th>\n",
              "    </tr>\n",
              "  </thead>\n",
              "  <tbody>\n",
              "    <tr>\n",
              "      <th>173</th>\n",
              "      <td>US</td>\n",
              "      <td>4290259</td>\n",
              "      <td>148011</td>\n",
              "      <td>1325804</td>\n",
              "      <td>2816444</td>\n",
              "      <td>56336</td>\n",
              "      <td>1076</td>\n",
              "      <td>27941</td>\n",
              "      <td>3.45</td>\n",
              "      <td>30.90</td>\n",
              "      <td>11.16</td>\n",
              "      <td>3834677</td>\n",
              "      <td>455582</td>\n",
              "      <td>11.88</td>\n",
              "      <td>Americas</td>\n",
              "    </tr>\n",
              "    <tr>\n",
              "      <th>23</th>\n",
              "      <td>Brazil</td>\n",
              "      <td>2442375</td>\n",
              "      <td>87618</td>\n",
              "      <td>1846641</td>\n",
              "      <td>508116</td>\n",
              "      <td>23284</td>\n",
              "      <td>614</td>\n",
              "      <td>33728</td>\n",
              "      <td>3.59</td>\n",
              "      <td>75.61</td>\n",
              "      <td>4.74</td>\n",
              "      <td>2118646</td>\n",
              "      <td>323729</td>\n",
              "      <td>15.28</td>\n",
              "      <td>Americas</td>\n",
              "    </tr>\n",
              "    <tr>\n",
              "      <th>79</th>\n",
              "      <td>India</td>\n",
              "      <td>1480073</td>\n",
              "      <td>33408</td>\n",
              "      <td>951166</td>\n",
              "      <td>495499</td>\n",
              "      <td>44457</td>\n",
              "      <td>637</td>\n",
              "      <td>33598</td>\n",
              "      <td>2.26</td>\n",
              "      <td>64.26</td>\n",
              "      <td>3.51</td>\n",
              "      <td>1155338</td>\n",
              "      <td>324735</td>\n",
              "      <td>28.11</td>\n",
              "      <td>South-East Asia</td>\n",
              "    </tr>\n",
              "    <tr>\n",
              "      <th>177</th>\n",
              "      <td>United Kingdom</td>\n",
              "      <td>301708</td>\n",
              "      <td>45844</td>\n",
              "      <td>1437</td>\n",
              "      <td>254427</td>\n",
              "      <td>688</td>\n",
              "      <td>7</td>\n",
              "      <td>3</td>\n",
              "      <td>15.19</td>\n",
              "      <td>0.48</td>\n",
              "      <td>3190.26</td>\n",
              "      <td>296944</td>\n",
              "      <td>4764</td>\n",
              "      <td>1.60</td>\n",
              "      <td>Europe</td>\n",
              "    </tr>\n",
              "    <tr>\n",
              "      <th>138</th>\n",
              "      <td>Russia</td>\n",
              "      <td>816680</td>\n",
              "      <td>13334</td>\n",
              "      <td>602249</td>\n",
              "      <td>201097</td>\n",
              "      <td>5607</td>\n",
              "      <td>85</td>\n",
              "      <td>3077</td>\n",
              "      <td>1.63</td>\n",
              "      <td>73.74</td>\n",
              "      <td>2.21</td>\n",
              "      <td>776212</td>\n",
              "      <td>40468</td>\n",
              "      <td>5.21</td>\n",
              "      <td>Europe</td>\n",
              "    </tr>\n",
              "  </tbody>\n",
              "</table>\n",
              "</div>"
            ],
            "text/plain": [
              "     Country/Region  Confirmed  ...  1 week % increase       WHO Region\n",
              "173              US    4290259  ...              11.88         Americas\n",
              "23           Brazil    2442375  ...              15.28         Americas\n",
              "79            India    1480073  ...              28.11  South-East Asia\n",
              "177  United Kingdom     301708  ...               1.60           Europe\n",
              "138          Russia     816680  ...               5.21           Europe\n",
              "\n",
              "[5 rows x 15 columns]"
            ]
          },
          "metadata": {},
          "execution_count": 17
        }
      ]
    },
    {
      "cell_type": "code",
      "metadata": {
        "colab": {
          "base_uri": "https://localhost:8080/",
          "height": 361
        },
        "id": "MK0M5Smz9u3R",
        "outputId": "b2f2c613-60c5-4db0-93d8-4f1e0e914714"
      },
      "source": [
        "sns.distplot(covidb.nlargest(5,'Active')['Active'])\n"
      ],
      "execution_count": 18,
      "outputs": [
        {
          "output_type": "stream",
          "name": "stderr",
          "text": [
            "/usr/local/lib/python3.7/dist-packages/seaborn/distributions.py:2619: FutureWarning: `distplot` is a deprecated function and will be removed in a future version. Please adapt your code to use either `displot` (a figure-level function with similar flexibility) or `histplot` (an axes-level function for histograms).\n",
            "  warnings.warn(msg, FutureWarning)\n"
          ]
        },
        {
          "output_type": "execute_result",
          "data": {
            "text/plain": [
              "<matplotlib.axes._subplots.AxesSubplot at 0x7fc284825250>"
            ]
          },
          "metadata": {},
          "execution_count": 18
        },
        {
          "output_type": "display_data",
          "data": {
            "image/png": "[encoded data removed]",
            "text/plain": [
              "<Figure size 432x288 with 1 Axes>"
            ]
          },
          "metadata": {
            "needs_background": "light"
          }
        }
      ]
    },
    {
      "cell_type": "code",
      "metadata": {
        "colab": {
          "base_uri": "https://localhost:8080/",
          "height": 609
        },
        "id": "4ctkRZG79yyW",
        "outputId": "4625c290-80dc-489d-9d66-4f85b0582a6e"
      },
      "source": [
        "covidb[\"New cases\"].hist(bins=50 , figsize =(15,10))\n"
      ],
      "execution_count": 19,
      "outputs": [
        {
          "output_type": "execute_result",
          "data": {
            "text/plain": [
              "<matplotlib.axes._subplots.AxesSubplot at 0x7fc282729dd0>"
            ]
          },
          "metadata": {},
          "execution_count": 19
        },
        {
          "output_type": "display_data",
          "data": {
            "image/png": "[encoded data removed]",
            "text/plain": [
              "<Figure size 1080x720 with 1 Axes>"
            ]
          },
          "metadata": {
            "needs_background": "light"
          }
        }
      ]
    },
    {
      "cell_type": "code",
      "metadata": {
        "colab": {
          "base_uri": "https://localhost:8080/",
          "height": 609
        },
        "id": "v-6-yje290dR",
        "outputId": "8b87beb0-720e-4032-eabb-9308796a93d7"
      },
      "source": [
        "covidb[\"Deaths\"].hist(bins=50 , figsize =(15,10))\n"
      ],
      "execution_count": 20,
      "outputs": [
        {
          "output_type": "execute_result",
          "data": {
            "text/plain": [
              "<matplotlib.axes._subplots.AxesSubplot at 0x7fc28264c8d0>"
            ]
          },
          "metadata": {},
          "execution_count": 20
        },
        {
          "output_type": "display_data",
          "data": {
            "image/png": "[encoded data removed]",
            "text/plain": [
              "<Figure size 1080x720 with 1 Axes>"
            ]
          },
          "metadata": {
            "needs_background": "light"
          }
        }
      ]
    },
    {
      "cell_type": "code",
      "metadata": {
        "colab": {
          "base_uri": "https://localhost:8080/",
          "height": 290
        },
        "id": "tWjBhCZb9260",
        "outputId": "29853d74-3759-4fdf-d5bf-aea0fc283e03"
      },
      "source": [
        "dplot = covidb.nlargest(5,'Active')\n",
        "dplot\n"
      ],
      "execution_count": 21,
      "outputs": [
        {
          "output_type": "execute_result",
          "data": {
            "text/html": [
              "<div>\n",
              "<style scoped>\n",
              "    .dataframe tbody tr th:only-of-type {\n",
              "        vertical-align: middle;\n",
              "    }\n",
              "\n",
              "    .dataframe tbody tr th {\n",
              "        vertical-align: top;\n",
              "    }\n",
              "\n",
              "    .dataframe thead th {\n",
              "        text-align: right;\n",
              "    }\n",
              "</style>\n",
              "<table border=\"1\" class=\"dataframe\">\n",
              "  <thead>\n",
              "    <tr style=\"text-align: right;\">\n",
              "      <th></th>\n",
              "      <th>Country/Region</th>\n",
              "      <th>Confirmed</th>\n",
              "      <th>Deaths</th>\n",
              "      <th>Recovered</th>\n",
              "      <th>Active</th>\n",
              "      <th>New cases</th>\n",
              "      <th>New deaths</th>\n",
              "      <th>New recovered</th>\n",
              "      <th>Deaths / 100 Cases</th>\n",
              "      <th>Recovered / 100 Cases</th>\n",
              "      <th>Deaths / 100 Recovered</th>\n",
              "      <th>Confirmed last week</th>\n",
              "      <th>1 week change</th>\n",
              "      <th>1 week % increase</th>\n",
              "      <th>WHO Region</th>\n",
              "    </tr>\n",
              "  </thead>\n",
              "  <tbody>\n",
              "    <tr>\n",
              "      <th>173</th>\n",
              "      <td>US</td>\n",
              "      <td>4290259</td>\n",
              "      <td>148011</td>\n",
              "      <td>1325804</td>\n",
              "      <td>2816444</td>\n",
              "      <td>56336</td>\n",
              "      <td>1076</td>\n",
              "      <td>27941</td>\n",
              "      <td>3.45</td>\n",
              "      <td>30.90</td>\n",
              "      <td>11.16</td>\n",
              "      <td>3834677</td>\n",
              "      <td>455582</td>\n",
              "      <td>11.88</td>\n",
              "      <td>Americas</td>\n",
              "    </tr>\n",
              "    <tr>\n",
              "      <th>23</th>\n",
              "      <td>Brazil</td>\n",
              "      <td>2442375</td>\n",
              "      <td>87618</td>\n",
              "      <td>1846641</td>\n",
              "      <td>508116</td>\n",
              "      <td>23284</td>\n",
              "      <td>614</td>\n",
              "      <td>33728</td>\n",
              "      <td>3.59</td>\n",
              "      <td>75.61</td>\n",
              "      <td>4.74</td>\n",
              "      <td>2118646</td>\n",
              "      <td>323729</td>\n",
              "      <td>15.28</td>\n",
              "      <td>Americas</td>\n",
              "    </tr>\n",
              "    <tr>\n",
              "      <th>79</th>\n",
              "      <td>India</td>\n",
              "      <td>1480073</td>\n",
              "      <td>33408</td>\n",
              "      <td>951166</td>\n",
              "      <td>495499</td>\n",
              "      <td>44457</td>\n",
              "      <td>637</td>\n",
              "      <td>33598</td>\n",
              "      <td>2.26</td>\n",
              "      <td>64.26</td>\n",
              "      <td>3.51</td>\n",
              "      <td>1155338</td>\n",
              "      <td>324735</td>\n",
              "      <td>28.11</td>\n",
              "      <td>South-East Asia</td>\n",
              "    </tr>\n",
              "    <tr>\n",
              "      <th>177</th>\n",
              "      <td>United Kingdom</td>\n",
              "      <td>301708</td>\n",
              "      <td>45844</td>\n",
              "      <td>1437</td>\n",
              "      <td>254427</td>\n",
              "      <td>688</td>\n",
              "      <td>7</td>\n",
              "      <td>3</td>\n",
              "      <td>15.19</td>\n",
              "      <td>0.48</td>\n",
              "      <td>3190.26</td>\n",
              "      <td>296944</td>\n",
              "      <td>4764</td>\n",
              "      <td>1.60</td>\n",
              "      <td>Europe</td>\n",
              "    </tr>\n",
              "    <tr>\n",
              "      <th>138</th>\n",
              "      <td>Russia</td>\n",
              "      <td>816680</td>\n",
              "      <td>13334</td>\n",
              "      <td>602249</td>\n",
              "      <td>201097</td>\n",
              "      <td>5607</td>\n",
              "      <td>85</td>\n",
              "      <td>3077</td>\n",
              "      <td>1.63</td>\n",
              "      <td>73.74</td>\n",
              "      <td>2.21</td>\n",
              "      <td>776212</td>\n",
              "      <td>40468</td>\n",
              "      <td>5.21</td>\n",
              "      <td>Europe</td>\n",
              "    </tr>\n",
              "  </tbody>\n",
              "</table>\n",
              "</div>"
            ],
            "text/plain": [
              "     Country/Region  Confirmed  ...  1 week % increase       WHO Region\n",
              "173              US    4290259  ...              11.88         Americas\n",
              "23           Brazil    2442375  ...              15.28         Americas\n",
              "79            India    1480073  ...              28.11  South-East Asia\n",
              "177  United Kingdom     301708  ...               1.60           Europe\n",
              "138          Russia     816680  ...               5.21           Europe\n",
              "\n",
              "[5 rows x 15 columns]"
            ]
          },
          "metadata": {},
          "execution_count": 21
        }
      ]
    },
    {
      "cell_type": "code",
      "metadata": {
        "colab": {
          "base_uri": "https://localhost:8080/",
          "height": 290
        },
        "id": "EJG244rC98_t",
        "outputId": "5d696081-f10f-4d09-e339-6e7aac7f59ef"
      },
      "source": [
        "x = dplot['Country/Region']\n",
        "y = dplot['Active']\n",
        "plt.bar(x,y,align='center') # A bar chart\n",
        "plt.xlabel('Country')\n",
        "plt.ylabel('Active')\n",
        "plt.show()\n"
      ],
      "execution_count": 22,
      "outputs": [
        {
          "output_type": "display_data",
          "data": {
            "image/png": "[encoded data removed]",
            "text/plain": [
              "<Figure size 432x288 with 1 Axes>"
            ]
          },
          "metadata": {
            "needs_background": "light"
          }
        }
      ]
    },
    {
      "cell_type": "code",
      "metadata": {
        "colab": {
          "base_uri": "https://localhost:8080/",
          "height": 296
        },
        "id": "wqkpyoHD9_NT",
        "outputId": "6fead21f-60dc-4e21-ab62-1953757b3993"
      },
      "source": [
        "covidb.plot(kind=\"scatter\" , x=\"New cases\" , y= \"New deaths\")\n"
      ],
      "execution_count": 23,
      "outputs": [
        {
          "output_type": "execute_result",
          "data": {
            "text/plain": [
              "<matplotlib.axes._subplots.AxesSubplot at 0x7fc2824b0c10>"
            ]
          },
          "metadata": {},
          "execution_count": 23
        },
        {
          "output_type": "display_data",
          "data": {
            "image/png": "[encoded data removed]",
            "text/plain": [
              "<Figure size 432x288 with 1 Axes>"
            ]
          },
          "metadata": {
            "needs_background": "light"
          }
        }
      ]
    },
    {
      "cell_type": "code",
      "metadata": {
        "colab": {
          "base_uri": "https://localhost:8080/"
        },
        "id": "104cFLf3-BLz",
        "outputId": "14b6eeb5-62b1-42ad-a0ea-cd8b15a3dd35"
      },
      "source": [
        "covidb[covidb['WHO Region'] == 'Europe']['New cases'].sum()\n"
      ],
      "execution_count": 24,
      "outputs": [
        {
          "output_type": "execute_result",
          "data": {
            "text/plain": [
              "22294"
            ]
          },
          "metadata": {},
          "execution_count": 24
        }
      ]
    },
    {
      "cell_type": "code",
      "metadata": {
        "id": "dxn4Kp4W-C0F"
      },
      "source": [
        ""
      ],
      "execution_count": null,
      "outputs": []
    }
  ]
}